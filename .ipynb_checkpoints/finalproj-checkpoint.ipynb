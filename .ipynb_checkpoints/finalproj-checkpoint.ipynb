{
 "cells": [
  {
   "cell_type": "code",
   "execution_count": 320,
   "metadata": {},
   "outputs": [],
   "source": [
    "import tensorflow as tf\n",
    "import cv2\n",
    "\n",
    "import keras\n",
    "\n",
    "from keras.preprocessing import image\n",
    "from keras.preprocessing.image import ImageDataGenerator\n",
    "\n",
    "from keras.layers import Dense, Activation, MaxPool2D, MaxPooling2D,Conv2D, Flatten, Dropout, BatchNormalization, AveragePooling2D,GlobalAveragePooling2D\n",
    "from keras.models import Sequential, Model, model_from_json\n",
    "from keras.utils import np_utils\n",
    "from keras.callbacks import ModelCheckpoint\n",
    "\n",
    "import matplotlib.pyplot as plt\n",
    "\n",
    "import numpy as np\n",
    "from matplotlib.offsetbox import AnnotationBbox, OffsetImage\n",
    "from matplotlib._png import read_png\n",
    "\n",
    "%matplotlib inline"
   ]
  },
  {
   "cell_type": "markdown",
   "metadata": {},
   "source": [
    "# Emotion recognition (model1)"
   ]
  },
  {
   "cell_type": "code",
   "execution_count": 122,
   "metadata": {},
   "outputs": [],
   "source": [
    "num_classes = 7 #angry, disgust, fear, happy, sad, surprise, neutral\n",
    "batch_size = 256\n",
    "epochs = 5\n",
    "objects = ('angry', 'disgust', 'fear', 'happy', 'sad', 'surprise', 'neutral')"
   ]
  },
  {
   "cell_type": "code",
   "execution_count": 123,
   "metadata": {},
   "outputs": [],
   "source": [
    "# construct CNN structure\n",
    "model1 = Sequential()\n",
    "\n",
    "#1st convolution layer\n",
    "model1.add(Conv2D(64, (5, 5), activation='relu', input_shape=(48,48,1)))\n",
    "model1.add(MaxPooling2D(pool_size=(5,5), strides=(2, 2)))\n",
    "\n",
    "#2nd convolution layer\n",
    "model1.add(Conv2D(64, (3, 3), activation='relu'))\n",
    "model1.add(Conv2D(64, (3, 3), activation='relu'))\n",
    "model1.add(AveragePooling2D(pool_size=(3,3), strides=(2, 2)))\n",
    "\n",
    "#3rd convolution layer\n",
    "model1.add(Conv2D(128, (3, 3), activation='relu'))\n",
    "model1.add(Conv2D(128, (3, 3), activation='relu'))\n",
    "model1.add(AveragePooling2D(pool_size=(3,3), strides=(2, 2)))\n",
    "\n",
    "model1.add(Flatten())\n",
    "\n",
    "#fully connected neural networks\n",
    "model1.add(Dense(1024, activation='relu'))\n",
    "model1.add(Dropout(0.2))\n",
    "model1.add(Dense(1024, activation='relu'))\n",
    "model1.add(Dropout(0.2))\n",
    "\n",
    "model1.add(Dense(num_classes, activation='softmax'))"
   ]
  },
  {
   "cell_type": "code",
   "execution_count": 124,
   "metadata": {},
   "outputs": [],
   "source": [
    "model1.load_weights('facial_expression_model_weights.h5') #load weights for emotion anlaysis\n"
   ]
  },
  {
   "cell_type": "code",
   "execution_count": 319,
   "metadata": {},
   "outputs": [],
   "source": [
    "#function for drawing bar chart for emotion preditions\n",
    "def emotion_analysis(emotions):\n",
    "    indexemo=(list(emotions).index(max(list(emotions))))\n",
    "#     print(list(emotions))\n",
    "    print(\"Emotion: \",objects[indexemo], \"  ( \",  max(list(emotions))*100,\"%)\" )\n",
    "    y_pos = np.arange(len(objects))\n",
    "\n",
    "#     plt.bar(y_pos, emotions, align='center', alpha=0.5)\n",
    "#     plt.xticks(y_pos, objects)\n",
    "#     plt.ylabel('percentage')\n",
    "#     plt.title('emotion')\n",
    "\n",
    "#     plt.show()\n",
    "    return indexemo\n",
    "    "
   ]
  },
  {
   "cell_type": "markdown",
   "metadata": {},
   "source": [
    "# Facial Keypoints detection (model2)"
   ]
  },
  {
   "cell_type": "code",
   "execution_count": 126,
   "metadata": {},
   "outputs": [],
   "source": [
    "model2 = Sequential()\n",
    "\n",
    "model2.add(BatchNormalization(input_shape=(96, 96, 1)))\n",
    "model2.add(Conv2D(24, 5, data_format=\"channels_last\", kernel_initializer=\"he_normal\", \n",
    "                 input_shape=(96, 96, 1), padding=\"same\"))\n",
    "model2.add(Activation(\"relu\"))\n",
    "model2.add(MaxPool2D(pool_size=(2, 2), strides=2))\n",
    "\n",
    "model2.add(Conv2D(36, 5))\n",
    "model2.add(Activation(\"relu\"))\n",
    "model2.add(MaxPool2D(pool_size=(2, 2), strides=2))\n",
    "\n",
    "model2.add(Conv2D(48, 5))\n",
    "model2.add(Activation(\"relu\"))\n",
    "model2.add(MaxPool2D(pool_size=(2, 2), strides=2))\n",
    "\n",
    "model2.add(Conv2D(64, 3))\n",
    "model2.add(Activation(\"relu\"))\n",
    "model2.add(MaxPool2D(pool_size=(2, 2)))\n",
    "\n",
    "model2.add(Flatten())\n",
    "model2.add(Dense(500))\n",
    "model2.add(Activation(\"relu\"))\n",
    "\n",
    "model2.add(Dense(90))\n",
    "model2.add(Activation(\"relu\"))\n",
    "\n",
    "model2.add(Dense(30))\n",
    "model2.compile(optimizer='rmsprop', loss='mse', metrics=['accuracy'])\n",
    "# model2.summary()"
   ]
  },
  {
   "cell_type": "code",
   "execution_count": 128,
   "metadata": {},
   "outputs": [],
   "source": [
    "model2.load_weights(\"face_model.h5\")   #facial keypoints model"
   ]
  },
  {
   "cell_type": "markdown",
   "metadata": {},
   "source": [
    "# Filters\n"
   ]
  },
  {
   "cell_type": "code",
   "execution_count": 11,
   "metadata": {},
   "outputs": [],
   "source": [
    " #angry, disgust, fear, happy, sad, surprise, neutral\n",
    "    \n",
    "def filterfunction(i):\n",
    "    if i==0:\n",
    "        angryfilter()\n",
    "    elif i==1:\n",
    "        disgustfilter()\n",
    "    elif i==2:\n",
    "        fearfilter()\n",
    "    elif i==3:\n",
    "        happyfilter()\n",
    "    elif i==4:\n",
    "        sadfilter()\n",
    "    elif i==5:\n",
    "        surprisefilter()\n",
    "    elif i==6:\n",
    "        neutralfilter()\n",
    "        "
   ]
  },
  {
   "cell_type": "code",
   "execution_count": 289,
   "metadata": {},
   "outputs": [],
   "source": [
    "def angryfilter():\n",
    "    file_name = \"filters/rednose.png\"\n",
    "    img = cv2.imread(file_name,1)\n",
    "    \n",
    "    tmp = cv2.cvtColor(img, cv2.COLOR_BGR2GRAY)\n",
    "    ret,thresh1 = cv2.threshold(tmp,0,255,cv2.THRESH_BINARY)\n",
    "    b, g, r = cv2.split(img)\n",
    "    rgba = [r,g,b, thresh1]\n",
    "    element=(cv2.merge(rgba,4))\n",
    "    imagebox = OffsetImage(element, zoom=.1)\n",
    "    xy_nose = [custom2[0][20], custom2[0][21]] \n",
    "   \n",
    "    ab = AnnotationBbox(imagebox, xy_nose, xybox=(-5, 10),frameon=False, boxcoords=\"offset points\")  \n",
    "    ax.add_artist(ab)\n"
   ]
  },
  {
   "cell_type": "code",
   "execution_count": 130,
   "metadata": {},
   "outputs": [],
   "source": [
    "def disgustfilter():\n",
    "    file_name = \"filters/rednose.png\"\n",
    "    img = cv2.imread(file_name,1)\n",
    "    \n",
    "    tmp = cv2.cvtColor(img, cv2.COLOR_BGR2GRAY)\n",
    "    ret,thresh1 = cv2.threshold(tmp,0,255,cv2.THRESH_BINARY)\n",
    "    b, g, r = cv2.split(img)\n",
    "    rgba = [r,g,b, thresh1]\n",
    "    element=(cv2.merge(rgba,4))\n",
    "    imagebox = OffsetImage(element, zoom=.1)\n",
    "    xy_nose = [custom2[0][20], custom2[0][21]] \n",
    "   \n",
    "    ab = AnnotationBbox(imagebox, xy_nose, xybox=(-5, 10),frameon=False, boxcoords=\"offset points\")  \n",
    "    ax.add_artist(ab)\n"
   ]
  },
  {
   "cell_type": "code",
   "execution_count": 271,
   "metadata": {},
   "outputs": [],
   "source": [
    "def fearfilter():\n",
    "    file_name = \"filters/sweat.png\"\n",
    "    img = cv2.imread(file_name,1)\n",
    "    \n",
    "    tmp = cv2.cvtColor(img, cv2.COLOR_BGR2GRAY)\n",
    "    ret,thresh1 = cv2.threshold(tmp,0,255,cv2.THRESH_BINARY)\n",
    "    b, g, r = cv2.split(img)\n",
    "    rgba = [r,g,b, thresh1]\n",
    "    element=(cv2.merge(rgba,4))\n",
    "    imagebox = OffsetImage(element, zoom=.18)\n",
    "    xy_eyebrow = [100-custom2[0][18], 100-custom2[0][19]] \n",
    "#     print(xy_eyebrow)\n",
    "   \n",
    "    ab = AnnotationBbox(imagebox, xy_eyebrow, xybox=(0, 40),frameon=False, boxcoords=\"offset points\")  \n",
    "    ax.add_artist(ab)\n"
   ]
  },
  {
   "cell_type": "code",
   "execution_count": 132,
   "metadata": {},
   "outputs": [],
   "source": [
    "def happyfilter():\n",
    "    file_name = \"filters/rednose.png\"\n",
    "    img = cv2.imread(file_name,1)\n",
    "    \n",
    "    tmp = cv2.cvtColor(img, cv2.COLOR_BGR2GRAY)\n",
    "    ret,thresh1 = cv2.threshold(tmp,0,255,cv2.THRESH_BINARY)\n",
    "    b, g, r = cv2.split(img)\n",
    "    rgba = [r,g,b, thresh1]\n",
    "    element=(cv2.merge(rgba,4))\n",
    "    imagebox = OffsetImage(element, zoom=.1)\n",
    "    xy_nose = [custom2[0][20], custom2[0][21]] \n",
    "   \n",
    "    ab = AnnotationBbox(imagebox, xy_nose, xybox=(-5, 10),frameon=False, boxcoords=\"offset points\")  \n",
    "    ax.add_artist(ab)\n"
   ]
  },
  {
   "cell_type": "code",
   "execution_count": 306,
   "metadata": {},
   "outputs": [],
   "source": [
    "def sadfilter():\n",
    "    file_name = \"filters/teardrop.png\"\n",
    "    img = cv2.imread(file_name,1)\n",
    "    \n",
    "    tmp = cv2.cvtColor(img, cv2.COLOR_BGR2GRAY)\n",
    "    ret,thresh1 = cv2.threshold(tmp,0,255,cv2.THRESH_BINARY)\n",
    "    b, g, r = cv2.split(img)\n",
    "    rgba = [r,g,b, thresh1]\n",
    "    element=(cv2.merge(rgba,4))\n",
    "    imagebox = OffsetImage(element, zoom=.33)\n",
    "    xy_eyecorner = [100-custom2[0][6], 115-custom2[0][0]] \n",
    "#     print(xy_eyecorner)\n",
    "   \n",
    "    ab = AnnotationBbox(imagebox, xy_eyecorner, xybox=(0,0),xycoords='data',frameon=False, boxcoords=\"offset points\")  \n",
    "    ax.add_artist(ab)\n"
   ]
  },
  {
   "cell_type": "code",
   "execution_count": 216,
   "metadata": {},
   "outputs": [],
   "source": [
    "def surprisefilter():\n",
    "    file_name = \"filters/rednose.png\"\n",
    "    img = cv2.imread(file_name,1)\n",
    "    \n",
    "    tmp = cv2.cvtColor(img, cv2.COLOR_BGR2GRAY)\n",
    "    ret,thresh1 = cv2.threshold(tmp,0,255,cv2.THRESH_BINARY)\n",
    "    b, g, r = cv2.split(img)\n",
    "    rgba = [r,g,b, thresh1]\n",
    "    element=(cv2.merge(rgba,4))\n",
    "    imagebox = OffsetImage(element, zoom=.1)\n",
    "    xy_nose = [custom2[0][20], 100-custom2[0][21]] \n",
    "   \n",
    "    ab = AnnotationBbox(imagebox, xy_nose, xybox=(-5, 10),frameon=False, boxcoords=\"offset points\")  \n",
    "    ax.add_artist(ab)\n"
   ]
  },
  {
   "cell_type": "code",
   "execution_count": 160,
   "metadata": {
    "scrolled": true
   },
   "outputs": [],
   "source": [
    "def neutralfilter():\n",
    "    file_name = \"filters/sunglasses.png\"\n",
    "    img = cv2.imread(file_name,1)\n",
    "    tmp = cv2.cvtColor(img, cv2.COLOR_BGR2GRAY)\n",
    "    ret,thresh1 = cv2.threshold(tmp,0,255,cv2.THRESH_BINARY)\n",
    "    b, g, r = cv2.split(img)\n",
    "    rgba = [r,g,b, thresh1]\n",
    "    element=(cv2.merge(rgba,4))\n",
    "    imagebox = OffsetImage(element, zoom=.18)\n",
    "#     xy_sunglasses = [(custom2[0][0]+ custom2[0][2] )/2, (custom2[0][1]+ custom2[0][3] )/2] \n",
    "    xy_sunglasses = [custom2[0][20], (custom2[0][1]+ custom2[0][3] )/2] \n",
    "    ab = AnnotationBbox(imagebox, xy_sunglasses, xybox=(-3, 0),frameon=False, boxcoords=\"offset points\")   \n",
    "\n",
    "    ax.add_artist(ab)\n",
    "    # ax.grid(True)\n",
    "    \n",
    "    "
   ]
  },
  {
   "cell_type": "markdown",
   "metadata": {},
   "source": [
    "# Custom Input"
   ]
  },
  {
   "cell_type": "code",
   "execution_count": 316,
   "metadata": {},
   "outputs": [],
   "source": [
    "\n",
    "filename= \"test_images/chris.jpg\"\n"
   ]
  },
  {
   "cell_type": "code",
   "execution_count": 317,
   "metadata": {},
   "outputs": [
    {
     "data": {
      "image/png": "[encoded data removed]",
      "text/plain": [
       "<Figure size 432x288 with 1 Axes>"
      ]
     },
     "metadata": {
      "needs_background": "light"
     },
     "output_type": "display_data"
    },
    {
     "name": "stdout",
     "output_type": "stream",
     "text": [
      "Emotion:  neutral   (  92.8412914276123 %)\n"
     ]
    },
    {
     "data": {
      "image/png": "[encoded data removed]",
      "text/plain": [
       "<Figure size 432x288 with 1 Axes>"
      ]
     },
     "metadata": {
      "needs_background": "light"
     },
     "output_type": "display_data"
    }
   ],
   "source": [
    "img = image.load_img(filename, grayscale=True,target_size=(96, 96))\n",
    "plt.imshow(img)\n",
    "plt.show()\n",
    "ax= plt.subplot(111)\n",
    "#emotion analysis:\n",
    "img1 = image.load_img(filename, grayscale=True, target_size=(48, 48))\n",
    "\n",
    "x = image.img_to_array(img1)\n",
    "x = np.expand_dims(x, axis = 0)\n",
    "x/=255\n",
    "custom1 = model1.predict(x)\n",
    "indexemo= emotion_analysis(custom1[0])\n",
    "\n",
    "#Facial keypoints\n",
    "img2 = image.load_img(filename, grayscale=True, target_size=(96, 96))\n",
    "\n",
    "x_in = image.img_to_array(img2)\n",
    "x_in = np.expand_dims(x_in, axis = 0)\n",
    "x_in = np.array(x_in, 'float32')\n",
    "x_in = x_in.reshape([-1,96, 96,1]);\n",
    "custom2 = model2.predict(x_in)\n",
    "# print(custom2)\n",
    "plt.gray()\n",
    "plt.imshow(img2, cmap=\"gray\")\n",
    "#x and y coordinates\n",
    "xc=[]\n",
    "yc=[]\n",
    "for i in range(len(custom2[0])):\n",
    "    if i%2==0:\n",
    "        xc.append(custom2[0][i])\n",
    "    else:\n",
    "        yc.append(custom2[0][i])\n",
    "\n",
    "# ax.scatter(xc,yc,marker='o')\n",
    "# print(indexemo)\n",
    "\n",
    "filterfunction(indexemo)\n",
    "\n",
    "plt.draw()\n",
    "plt.show()"
   ]
  }
 ],
 "metadata": {
  "kernelspec": {
   "display_name": "Python 3",
   "language": "python",
   "name": "python3"
  },
  "language_info": {
   "codemirror_mode": {
    "name": "ipython",
    "version": 3
   },
   "file_extension": ".py",
   "mimetype": "text/x-python",
   "name": "python",
   "nbconvert_exporter": "python",
   "pygments_lexer": "ipython3",
   "version": "3.6.7"
  }
 },
 "nbformat": 4,
 "nbformat_minor": 2
}
